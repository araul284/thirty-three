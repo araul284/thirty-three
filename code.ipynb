{
  "nbformat": 4,
  "nbformat_minor": 0,
  "metadata": {
    "colab": {
      "provenance": [],
      "authorship_tag": "ABX9TyNxFpDqrhXmIDqd8qIBrMww"
    },
    "kernelspec": {
      "name": "python3",
      "display_name": "Python 3"
    },
    "language_info": {
      "name": "python"
    }
  },
  "cells": [
    {
      "cell_type": "code",
      "execution_count": null,
      "metadata": {
        "id": "0h5rgts4OAh-"
      },
      "outputs": [],
      "source": [
        "# 🏁 Step 1: Install any missing libraries (Colab usually has these preinstalled)\n",
        "!pip install pandas numpy matplotlib seaborn scikit-learn\n",
        "\n",
        "# 🏁 Step 2: Import libraries\n",
        "import pandas as pd\n",
        "import numpy as np\n",
        "import matplotlib.pyplot as plt\n",
        "import seaborn as sns\n",
        "\n",
        "# For ML later\n",
        "from sklearn.model_selection import train_test_split\n",
        "from sklearn.linear_model import LinearRegression\n",
        "from sklearn.metrics import mean_squared_error, r2_score\n",
        "\n",
        "# 🏁 Step 3: Settings (to make plots pretty)\n",
        "sns.set_style(\"darkgrid\")   # nice plot background\n",
        "plt.rcParams[\"figure.figsize\"] = (10, 5)  # bigger plots\n",
        "\n",
        "print(\"✅ Setup complete! Libraries imported successfully.\")"
      ]
    },
    {
      "cell_type": "code",
      "source": [],
      "metadata": {
        "id": "ddDhI6HyPJtz"
      },
      "execution_count": null,
      "outputs": []
    }
  ]
}